{
 "cells": [
  {
   "cell_type": "markdown",
   "metadata": {},
   "source": [
    "Modelling"
   ]
  },
  {
   "cell_type": "code",
   "execution_count": 1,
   "metadata": {},
   "outputs": [],
   "source": [
    "import matplotlib\n",
    "import matplotlib.pyplot as plt\n",
    "import numpy as np\n",
    "from ipywidgets import interact, interactive, fixed, interact_manual\n",
    "import ipywidgets as widgets"
   ]
  },
  {
   "cell_type": "code",
   "execution_count": 2,
   "metadata": {},
   "outputs": [],
   "source": [
    "t = np.arange(0.0, 20.0, 0.002)\n",
    "\n",
    "def cos_wave(f, phi, a):\n",
    "    return a * np.cos(f* 2 * np.pi * t + phi)"
   ]
  },
  {
   "cell_type": "markdown",
   "metadata": {},
   "source": [
    "Phase Shift"
   ]
  },
  {
   "cell_type": "code",
   "execution_count": 3,
   "metadata": {},
   "outputs": [
    {
     "data": {
      "application/vnd.jupyter.widget-view+json": {
       "model_id": "e6fed067b96b47c0a2a15a55a4373f2f",
       "version_major": 2,
       "version_minor": 0
      },
      "text/plain": [
       "interactive(children=(FloatSlider(value=1.0, description='f_1', max=2.0, min=0.1), FloatSlider(value=3.1415926…"
      ]
     },
     "metadata": {},
     "output_type": "display_data"
    }
   ],
   "source": [
    "@interact(f_1=(0.1,2.,0.1), phi_1=(0.,np.pi*2,np.pi/20), a_1=(0.5,1.5,0.1),\n",
    "          f_2=(0.1,2.,0.1), phi_2=(0.,np.pi*2,np.pi/20), a_2=(0.5,1.5,0.1))\n",
    "def plot(f_1, phi_1, a_1, f_2, phi_2, a_2):\n",
    "    fig, (ax1,ax2) = plt.subplots(2,1, figsize=(15,10))\n",
    "    fig.tight_layout(pad=5.0)\n",
    "    \n",
    "    c1 = cos_wave(f_1, phi_1, a_1)\n",
    "    c2 = cos_wave(f_2, phi_2, a_2)\n",
    "    m = c1 * c2 #mixer\n",
    "    #s = c1 + c2 #interference\n",
    "    x = np.logical_xor(c1>0, c2>0)\n",
    "    \n",
    "    ax1.plot(t, c1, label='c1')\n",
    "    ax1.plot(t, c2, label='c2')\n",
    "    ax1.plot(t, m, label='c1 * c2')\n",
    "    ax1.set(xlabel='time (s)', title='mixer')\n",
    "    ax1.grid()\n",
    "    #hängt auch von den amplituden und nicht nur vom phaseshift ab\n",
    "    ax1.legend(loc='lower left')\n",
    "    \n",
    "    ax2.plot(t, c1, label='c1')\n",
    "    ax2.plot(t, c2, label='c2')\n",
    "    ax2.plot(t, x, label='c1 xor c2')\n",
    "    ax2.set(xlabel='time (s)', title='XOR')\n",
    "    ax2.grid()\n",
    "    ax2.legend(loc='lower left')\n",
    "    \n",
    "    plt.show()"
   ]
  },
  {
   "cell_type": "markdown",
   "metadata": {},
   "source": [
    "Mean value and variance from given measured values"
   ]
  },
  {
   "cell_type": "code",
   "execution_count": 32,
   "metadata": {
    "scrolled": false
   },
   "outputs": [
    {
     "data": {
      "image/png": "[encoded data removed]",
      "text/plain": [
       "<Figure size 432x288 with 1 Axes>"
      ]
     },
     "metadata": {
      "needs_background": "light"
     },
     "output_type": "display_data"
    }
   ],
   "source": [
    "c1 = cos_wave(1.0, 3.14, 1.0)\n",
    "f_2 = 1.0\n",
    "X = []\n",
    "for phi_2 in np.arange(0.,np.pi*2,np.pi/50):\n",
    "    Y = []\n",
    "    for a_2 in np.arange(0.5,1.5,0.01):\n",
    "        c2 = cos_wave(f_2, phi_2, a_2)\n",
    "        m = c1 * c2 #mixer\n",
    "        Y.append(np.mean(m))\n",
    "    X.append(Y)\n",
    "    #print (\"phi = {:.2f}, mean = {:.2f},min = {:.2f}, max ={:.2f}\".format(\n",
    "       #phi_2, np.mean(Y),np.min(Y,np.max(Y)))\n",
    "plt.imshow(X,cmap='Reds')\n",
    "plt.gca().invert_yaxis()\n",
    "locs = [0, 20, 40, 60, 80, 99]\n",
    "plt.xticks(locs, [\"{:.1f}\".format(i) for i in np.arange(0.5,1.5,0.01)[locs]])\n",
    "plt.yticks(locs, [\"{:.1f}\".format(i/np.pi) for i in np.arange(0.,np.pi*2,np.pi/50)[locs]])\n",
    "plt.xlabel('rel. amplitude [-]')\n",
    "plt.ylabel('phase shift [pi]')\n",
    "plt.title('')\n",
    "plt.show()"
   ]
  },
  {
   "cell_type": "code",
   "execution_count": 33,
   "metadata": {},
   "outputs": [
    {
     "data": {
      "image/png": "[encoded data removed]",
      "text/plain": [
       "<Figure size 432x288 with 1 Axes>"
      ]
     },
     "metadata": {
      "needs_background": "light"
     },
     "output_type": "display_data"
    }
   ],
   "source": [
    "c1 = cos_wave(1.0, 3.14, 1.0)\n",
    "f_2 = 1.0\n",
    "X = []\n",
    "for phi_2 in np.arange(0.,np.pi*2,np.pi/50):\n",
    "    Y = []\n",
    "    for a_2 in np.arange(0.5,1.5,0.01):\n",
    "        c2 = cos_wave(f_2, phi_2, a_2)\n",
    "        x = np.logical_xor(c1>0, c2>0)\n",
    "        Y.append(np.mean(x))\n",
    "    X.append(Y)\n",
    "    #print (\"phi = {:.2f}, mean = {:.2f},min = {:.2f}, max ={:.2f}\".format(\n",
    "        #phi_2, np.mean(Y),np.min(Y),np.max(Y)))\n",
    "plt.imshow(X,cmap='Reds')\n",
    "plt.gca().invert_yaxis()\n",
    "plt.xticks(locs, [\"{:.1f}\".format(i) for i in np.arange(0.5,1.5,0.01)[locs]])\n",
    "plt.yticks(locs, [\"{:.1f}pi\".format(i/np.pi) for i in np.arange(0.,np.pi*2,np.pi/50)[locs]])\n",
    "plt.xlabel('rel. amplitude [-]')\n",
    "plt.ylabel('phase shift [pi]')\n",
    "plt.title('')\n",
    "plt.show()"
   ]
  },
  {
   "cell_type": "code",
   "execution_count": null,
   "metadata": {},
   "outputs": [],
   "source": []
  }
 ],
 "metadata": {
  "kernelspec": {
   "display_name": "Python 3",
   "language": "python",
   "name": "python3"
  },
  "language_info": {
   "codemirror_mode": {
    "name": "ipython",
    "version": 3
   },
   "file_extension": ".py",
   "mimetype": "text/x-python",
   "name": "python",
   "nbconvert_exporter": "python",
   "pygments_lexer": "ipython3",
   "version": "3.7.4"
  }
 },
 "nbformat": 4,
 "nbformat_minor": 4
}
